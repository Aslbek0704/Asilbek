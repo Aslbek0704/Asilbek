{
 "cells": [
  {
   "cell_type": "code",
   "execution_count": 345,
   "metadata": {},
   "outputs": [
    {
     "data": {
      "text/html": [
       "<div>\n",
       "<style scoped>\n",
       "    .dataframe tbody tr th:only-of-type {\n",
       "        vertical-align: middle;\n",
       "    }\n",
       "\n",
       "    .dataframe tbody tr th {\n",
       "        vertical-align: top;\n",
       "    }\n",
       "\n",
       "    .dataframe thead th {\n",
       "        text-align: right;\n",
       "    }\n",
       "</style>\n",
       "<table border=\"1\" class=\"dataframe\">\n",
       "  <thead>\n",
       "    <tr style=\"text-align: right;\">\n",
       "      <th></th>\n",
       "      <th>Safety</th>\n",
       "      <th>yacEPA</th>\n",
       "      <th>Drive</th>\n",
       "      <th>FieldGoalDistance</th>\n",
       "      <th>airEPA</th>\n",
       "      <th>Field_Goal_Prob</th>\n",
       "      <th>posteam</th>\n",
       "      <th>Penalty.Yards</th>\n",
       "      <th>FieldGoalResult</th>\n",
       "      <th>DefTeamScore</th>\n",
       "      <th>...</th>\n",
       "      <th>Accepted.Penalty</th>\n",
       "      <th>qtr</th>\n",
       "      <th>AwayTimeouts_Remaining_Post</th>\n",
       "      <th>RunGap</th>\n",
       "      <th>Reception</th>\n",
       "      <th>TimeUnder</th>\n",
       "      <th>Season</th>\n",
       "      <th>Opp_Safety_Prob</th>\n",
       "      <th>No_Score_Prob</th>\n",
       "      <th>Challenge.Replay</th>\n",
       "    </tr>\n",
       "  </thead>\n",
       "  <tbody>\n",
       "    <tr>\n",
       "      <th>244485</th>\n",
       "      <td>0</td>\n",
       "      <td>1.240299</td>\n",
       "      <td>18</td>\n",
       "      <td>NaN</td>\n",
       "      <td>-0.588101</td>\n",
       "      <td>0.309404</td>\n",
       "      <td>TB</td>\n",
       "      <td>0</td>\n",
       "      <td>NaN</td>\n",
       "      <td>10.0</td>\n",
       "      <td>...</td>\n",
       "      <td>0</td>\n",
       "      <td>3</td>\n",
       "      <td>3</td>\n",
       "      <td>NaN</td>\n",
       "      <td>1</td>\n",
       "      <td>1</td>\n",
       "      <td>2014</td>\n",
       "      <td>0.000527</td>\n",
       "      <td>0.024134</td>\n",
       "      <td>0</td>\n",
       "    </tr>\n",
       "    <tr>\n",
       "      <th>115340</th>\n",
       "      <td>0</td>\n",
       "      <td>NaN</td>\n",
       "      <td>22</td>\n",
       "      <td>NaN</td>\n",
       "      <td>NaN</td>\n",
       "      <td>0.198142</td>\n",
       "      <td>OAK</td>\n",
       "      <td>0</td>\n",
       "      <td>NaN</td>\n",
       "      <td>14.0</td>\n",
       "      <td>...</td>\n",
       "      <td>0</td>\n",
       "      <td>4</td>\n",
       "      <td>3</td>\n",
       "      <td>NaN</td>\n",
       "      <td>0</td>\n",
       "      <td>7</td>\n",
       "      <td>2011</td>\n",
       "      <td>0.001883</td>\n",
       "      <td>0.246929</td>\n",
       "      <td>0</td>\n",
       "    </tr>\n",
       "    <tr>\n",
       "      <th>68357</th>\n",
       "      <td>0</td>\n",
       "      <td>NaN</td>\n",
       "      <td>8</td>\n",
       "      <td>NaN</td>\n",
       "      <td>NaN</td>\n",
       "      <td>0.000000</td>\n",
       "      <td>NYJ</td>\n",
       "      <td>0</td>\n",
       "      <td>NaN</td>\n",
       "      <td>13.0</td>\n",
       "      <td>...</td>\n",
       "      <td>0</td>\n",
       "      <td>2</td>\n",
       "      <td>1</td>\n",
       "      <td>NaN</td>\n",
       "      <td>0</td>\n",
       "      <td>1</td>\n",
       "      <td>2010</td>\n",
       "      <td>0.000000</td>\n",
       "      <td>0.000000</td>\n",
       "      <td>0</td>\n",
       "    </tr>\n",
       "    <tr>\n",
       "      <th>368377</th>\n",
       "      <td>0</td>\n",
       "      <td>1.075660</td>\n",
       "      <td>24</td>\n",
       "      <td>NaN</td>\n",
       "      <td>0.402080</td>\n",
       "      <td>0.258227</td>\n",
       "      <td>CLE</td>\n",
       "      <td>0</td>\n",
       "      <td>NaN</td>\n",
       "      <td>31.0</td>\n",
       "      <td>...</td>\n",
       "      <td>0</td>\n",
       "      <td>4</td>\n",
       "      <td>0</td>\n",
       "      <td>NaN</td>\n",
       "      <td>1</td>\n",
       "      <td>9</td>\n",
       "      <td>2017</td>\n",
       "      <td>0.000845</td>\n",
       "      <td>0.133814</td>\n",
       "      <td>0</td>\n",
       "    </tr>\n",
       "    <tr>\n",
       "      <th>384684</th>\n",
       "      <td>0</td>\n",
       "      <td>NaN</td>\n",
       "      <td>11</td>\n",
       "      <td>NaN</td>\n",
       "      <td>NaN</td>\n",
       "      <td>0.199771</td>\n",
       "      <td>DEN</td>\n",
       "      <td>0</td>\n",
       "      <td>NaN</td>\n",
       "      <td>24.0</td>\n",
       "      <td>...</td>\n",
       "      <td>0</td>\n",
       "      <td>2</td>\n",
       "      <td>2</td>\n",
       "      <td>end</td>\n",
       "      <td>0</td>\n",
       "      <td>10</td>\n",
       "      <td>2017</td>\n",
       "      <td>0.003453</td>\n",
       "      <td>0.170787</td>\n",
       "      <td>0</td>\n",
       "    </tr>\n",
       "  </tbody>\n",
       "</table>\n",
       "<p>5 rows × 31 columns</p>\n",
       "</div>"
      ],
      "text/plain": [
       "        Safety    yacEPA  Drive  FieldGoalDistance    airEPA  Field_Goal_Prob  \\\n",
       "244485       0  1.240299     18                NaN -0.588101         0.309404   \n",
       "115340       0       NaN     22                NaN       NaN         0.198142   \n",
       "68357        0       NaN      8                NaN       NaN         0.000000   \n",
       "368377       0  1.075660     24                NaN  0.402080         0.258227   \n",
       "384684       0       NaN     11                NaN       NaN         0.199771   \n",
       "\n",
       "       posteam  Penalty.Yards FieldGoalResult  DefTeamScore  ...  \\\n",
       "244485      TB              0             NaN          10.0  ...   \n",
       "115340     OAK              0             NaN          14.0  ...   \n",
       "68357      NYJ              0             NaN          13.0  ...   \n",
       "368377     CLE              0             NaN          31.0  ...   \n",
       "384684     DEN              0             NaN          24.0  ...   \n",
       "\n",
       "       Accepted.Penalty  qtr  AwayTimeouts_Remaining_Post  RunGap  Reception  \\\n",
       "244485                0    3                            3     NaN          1   \n",
       "115340                0    4                            3     NaN          0   \n",
       "68357                 0    2                            1     NaN          0   \n",
       "368377                0    4                            0     NaN          1   \n",
       "384684                0    2                            2     end          0   \n",
       "\n",
       "       TimeUnder  Season Opp_Safety_Prob No_Score_Prob  Challenge.Replay  \n",
       "244485         1    2014        0.000527      0.024134                 0  \n",
       "115340         7    2011        0.001883      0.246929                 0  \n",
       "68357          1    2010        0.000000      0.000000                 0  \n",
       "368377         9    2017        0.000845      0.133814                 0  \n",
       "384684        10    2017        0.003453      0.170787                 0  \n",
       "\n",
       "[5 rows x 31 columns]"
      ]
     },
     "execution_count": 345,
     "metadata": {},
     "output_type": "execute_result"
    }
   ],
   "source": [
    "import pandas as pd\n",
    "import matplotlib as plt\n",
    "import numpy as np\n",
    "import seaborn as sns\n",
    "df=pd.read_csv(\"data.csv\")\n",
    "df_1=pd.read_csv(\"data.csv\")\n",
    "df.head()"
   ]
  },
  {
   "cell_type": "markdown",
   "metadata": {},
   "source": [
    "# dropna orqali NaN qiymati bolgan barcha qiymatlarni ochirish (afsuski hama qatorlarda NaN qiymatlar bolgani uchun hama qatorla ochib ketdi)"
   ]
  },
  {
   "cell_type": "code",
   "execution_count": 346,
   "metadata": {},
   "outputs": [
    {
     "data": {
      "text/html": [
       "<div>\n",
       "<style scoped>\n",
       "    .dataframe tbody tr th:only-of-type {\n",
       "        vertical-align: middle;\n",
       "    }\n",
       "\n",
       "    .dataframe tbody tr th {\n",
       "        vertical-align: top;\n",
       "    }\n",
       "\n",
       "    .dataframe thead th {\n",
       "        text-align: right;\n",
       "    }\n",
       "</style>\n",
       "<table border=\"1\" class=\"dataframe\">\n",
       "  <thead>\n",
       "    <tr style=\"text-align: right;\">\n",
       "      <th></th>\n",
       "      <th>Safety</th>\n",
       "      <th>yacEPA</th>\n",
       "      <th>Drive</th>\n",
       "      <th>FieldGoalDistance</th>\n",
       "      <th>airEPA</th>\n",
       "      <th>Field_Goal_Prob</th>\n",
       "      <th>posteam</th>\n",
       "      <th>Penalty.Yards</th>\n",
       "      <th>FieldGoalResult</th>\n",
       "      <th>DefTeamScore</th>\n",
       "      <th>...</th>\n",
       "      <th>Accepted.Penalty</th>\n",
       "      <th>qtr</th>\n",
       "      <th>AwayTimeouts_Remaining_Post</th>\n",
       "      <th>RunGap</th>\n",
       "      <th>Reception</th>\n",
       "      <th>TimeUnder</th>\n",
       "      <th>Season</th>\n",
       "      <th>Opp_Safety_Prob</th>\n",
       "      <th>No_Score_Prob</th>\n",
       "      <th>Challenge.Replay</th>\n",
       "    </tr>\n",
       "  </thead>\n",
       "  <tbody>\n",
       "  </tbody>\n",
       "</table>\n",
       "<p>0 rows × 31 columns</p>\n",
       "</div>"
      ],
      "text/plain": [
       "Empty DataFrame\n",
       "Columns: [Safety, yacEPA, Drive, FieldGoalDistance, airEPA, Field_Goal_Prob, posteam, Penalty.Yards, FieldGoalResult, DefTeamScore, Tackler2, Away_WP_pre, Timeout_Indicator, ydsnet, TimeSecs, Passer, Touchdown, TwoPointConv, PassOutcome, PlayTimeDiff, RushAttempt, Accepted.Penalty, qtr, AwayTimeouts_Remaining_Post, RunGap, Reception, TimeUnder, Season, Opp_Safety_Prob, No_Score_Prob, Challenge.Replay]\n",
       "Index: []\n",
       "\n",
       "[0 rows x 31 columns]"
      ]
     },
     "execution_count": 346,
     "metadata": {},
     "output_type": "execute_result"
    }
   ],
   "source": [
    "df.dropna()"
   ]
  },
  {
   "cell_type": "code",
   "execution_count": 347,
   "metadata": {},
   "outputs": [
    {
     "name": "stdout",
     "output_type": "stream",
     "text": [
      "<class 'pandas.core.frame.DataFrame'>\n",
      "Index: 40769 entries, 244485 to 247608\n",
      "Data columns (total 31 columns):\n",
      " #   Column                       Non-Null Count  Dtype  \n",
      "---  ------                       --------------  -----  \n",
      " 0   Safety                       40769 non-null  int64  \n",
      " 1   yacEPA                       15867 non-null  float64\n",
      " 2   Drive                        40769 non-null  int64  \n",
      " 3   FieldGoalDistance            902 non-null    float64\n",
      " 4   airEPA                       15875 non-null  float64\n",
      " 5   Field_Goal_Prob              40748 non-null  float64\n",
      " 6   posteam                      38219 non-null  object \n",
      " 7   Penalty.Yards                40769 non-null  int64  \n",
      " 8   FieldGoalResult              908 non-null    object \n",
      " 9   DefTeamScore                 38019 non-null  float64\n",
      " 10  Tackler2                     4943 non-null   object \n",
      " 11  Away_WP_pre                  38223 non-null  float64\n",
      " 12  Timeout_Indicator            40769 non-null  int64  \n",
      " 13  ydsnet                       40769 non-null  int64  \n",
      " 14  TimeSecs                     40742 non-null  float64\n",
      " 15  Passer                       16696 non-null  object \n",
      " 16  Touchdown                    40769 non-null  int64  \n",
      " 17  TwoPointConv                 53 non-null     object \n",
      " 18  PassOutcome                  16751 non-null  object \n",
      " 19  PlayTimeDiff                 40726 non-null  float64\n",
      " 20  RushAttempt                  40769 non-null  int64  \n",
      " 21  Accepted.Penalty             40769 non-null  int64  \n",
      " 22  qtr                          40769 non-null  int64  \n",
      " 23  AwayTimeouts_Remaining_Post  40769 non-null  int64  \n",
      " 24  RunGap                       8761 non-null   object \n",
      " 25  Reception                    40769 non-null  int64  \n",
      " 26  TimeUnder                    40769 non-null  int64  \n",
      " 27  Season                       40769 non-null  int64  \n",
      " 28  Opp_Safety_Prob              40748 non-null  float64\n",
      " 29  No_Score_Prob                40748 non-null  float64\n",
      " 30  Challenge.Replay             40769 non-null  int64  \n",
      "dtypes: float64(10), int64(14), object(7)\n",
      "memory usage: 10.0+ MB\n"
     ]
    }
   ],
   "source": [
    "df.info()"
   ]
  },
  {
   "cell_type": "markdown",
   "metadata": {},
   "source": [
    "# Chellemge.Replay ustunini NaN qiymatlari orniga 0 bilan toldirish"
   ]
  },
  {
   "cell_type": "code",
   "execution_count": 348,
   "metadata": {},
   "outputs": [],
   "source": [
    "df[\"Challenge.Replay\"]=df[\"Challenge.Replay\"].fillna(0)"
   ]
  },
  {
   "cell_type": "markdown",
   "metadata": {},
   "source": [
    "# fillna methodini ishlatganimizdan keyin type float bolib qoladi uni yana int64 type ozgartirish"
   ]
  },
  {
   "cell_type": "code",
   "execution_count": 349,
   "metadata": {},
   "outputs": [
    {
     "data": {
      "text/plain": [
       "244485    0\n",
       "115340    0\n",
       "68357     0\n",
       "368377    0\n",
       "384684    0\n",
       "         ..\n",
       "79438     0\n",
       "398233    0\n",
       "396466    0\n",
       "333861    0\n",
       "247608    0\n",
       "Name: Challenge.Replay, Length: 40769, dtype: int64"
      ]
     },
     "execution_count": 349,
     "metadata": {},
     "output_type": "execute_result"
    }
   ],
   "source": [
    "df[\"Challenge.Replay\"].astype(\"int64\")"
   ]
  },
  {
   "cell_type": "markdown",
   "metadata": {},
   "source": [
    "# No_Score_Prob columns da 21 ta NaN qiymat bor ekan va ularni mode bilan toldiramz"
   ]
  },
  {
   "cell_type": "code",
   "execution_count": 350,
   "metadata": {},
   "outputs": [
    {
     "name": "stdout",
     "output_type": "stream",
     "text": [
      "isnull\n",
      "False     40748\n",
      "True         21\n",
      "Name: count, dtype: int64\n"
     ]
    }
   ],
   "source": [
    "n=df[\"No_Score_Prob\"].agg([\"isnull\"]).value_counts()\n",
    "print(n)\n",
    "m=df[\"No_Score_Prob\"].mode()[0]\n",
    "df[\"No_Score_Prob\"]=df[\"No_Score_Prob\"].fillna(m)\n",
    "\n"
   ]
  },
  {
   "cell_type": "markdown",
   "metadata": {},
   "source": []
  },
  {
   "cell_type": "markdown",
   "metadata": {},
   "source": [
    "# Natija"
   ]
  },
  {
   "cell_type": "code",
   "execution_count": 351,
   "metadata": {},
   "outputs": [
    {
     "name": "stdout",
     "output_type": "stream",
     "text": [
      "isnull\n",
      "False     40769\n",
      "Name: count, dtype: int64\n"
     ]
    }
   ],
   "source": [
    "n=df[\"No_Score_Prob\"].agg([\"isnull\"]).value_counts()\n",
    "print(n)"
   ]
  },
  {
   "cell_type": "markdown",
   "metadata": {},
   "source": [
    "# Opp_Safety_Prob ni No_Score_Prob kabi mode bilan toldiramz"
   ]
  },
  {
   "cell_type": "code",
   "execution_count": 352,
   "metadata": {},
   "outputs": [
    {
     "name": "stdout",
     "output_type": "stream",
     "text": [
      "isnull\n",
      "False     40748\n",
      "True         21\n",
      "Name: count, dtype: int64\n"
     ]
    }
   ],
   "source": [
    "n=df[\"Opp_Safety_Prob\"].agg([\"isnull\"]).value_counts()\n",
    "print(n)\n",
    "m=df[\"Opp_Safety_Prob\"].mode()[0]\n",
    "df[\"Opp_Safety_Prob\"]=df[\"Opp_Safety_Prob\"].fillna(m)"
   ]
  },
  {
   "cell_type": "markdown",
   "metadata": {},
   "source": [
    "# Natija\n"
   ]
  },
  {
   "cell_type": "code",
   "execution_count": 353,
   "metadata": {},
   "outputs": [
    {
     "name": "stdout",
     "output_type": "stream",
     "text": [
      "isnull\n",
      "False     40769\n",
      "Name: count, dtype: int64\n"
     ]
    }
   ],
   "source": [
    "n=df[\"Opp_Safety_Prob\"].agg([\"isnull\"]).value_counts()\n",
    "print(n)"
   ]
  },
  {
   "cell_type": "markdown",
   "metadata": {},
   "source": [
    "# RunGap da 8761 ta NaN qiymat bor ekan ularni mode bn toldiramz"
   ]
  },
  {
   "cell_type": "code",
   "execution_count": 354,
   "metadata": {},
   "outputs": [
    {
     "name": "stdout",
     "output_type": "stream",
     "text": [
      "RunGap\n",
      "True     32008\n",
      "False     8761\n",
      "Name: count, dtype: int64\n"
     ]
    }
   ],
   "source": [
    "n=df[\"RunGap\"].isnull().value_counts()\n",
    "print(n)\n",
    "m=df[\"RunGap\"].mode()[0]\n",
    "df[\"RunGap\"]=df[\"RunGap\"].fillna(m)"
   ]
  },
  {
   "cell_type": "markdown",
   "metadata": {},
   "source": [
    "# PlayTimeDiff ni mediana bilan toldiramz sababi qaiymatlar orasida farqlar juda katta "
   ]
  },
  {
   "cell_type": "code",
   "execution_count": 355,
   "metadata": {},
   "outputs": [
    {
     "name": "stdout",
     "output_type": "stream",
     "text": [
      "PlayTimeDiff\n",
      "False    40726\n",
      "True        43\n",
      "Name: count, dtype: int64\n"
     ]
    }
   ],
   "source": [
    "n=df['PlayTimeDiff'].isnull().value_counts()\n",
    "print(n)\n",
    "df['PlayTimeDiff']=df['PlayTimeDiff'].fillna(df['PlayTimeDiff'].median())"
   ]
  },
  {
   "cell_type": "markdown",
   "metadata": {},
   "source": [
    "# Natija"
   ]
  },
  {
   "cell_type": "code",
   "execution_count": 356,
   "metadata": {},
   "outputs": [
    {
     "name": "stdout",
     "output_type": "stream",
     "text": [
      "PlayTimeDiff\n",
      "False    40769\n",
      "Name: count, dtype: int64\n"
     ]
    }
   ],
   "source": [
    "n=df['PlayTimeDiff'].isnull().value_counts()\n",
    "print(n)"
   ]
  },
  {
   "cell_type": "markdown",
   "metadata": {},
   "source": [
    "# PassOutcome mode bn toldiramz"
   ]
  },
  {
   "cell_type": "code",
   "execution_count": 357,
   "metadata": {},
   "outputs": [
    {
     "name": "stdout",
     "output_type": "stream",
     "text": [
      "PassOutcome\n",
      "True     24018\n",
      "False    16751\n",
      "Name: count, dtype: int64\n"
     ]
    }
   ],
   "source": [
    "n=df['PassOutcome'].isnull().value_counts()\n",
    "print(n)\n",
    "df['PassOutcome']=df['PassOutcome'].fillna(df['PassOutcome'].mode()[0])"
   ]
  },
  {
   "cell_type": "markdown",
   "metadata": {},
   "source": [
    "# Natija"
   ]
  },
  {
   "cell_type": "code",
   "execution_count": 358,
   "metadata": {},
   "outputs": [
    {
     "name": "stdout",
     "output_type": "stream",
     "text": [
      "PassOutcome\n",
      "False    40769\n",
      "Name: count, dtype: int64\n"
     ]
    }
   ],
   "source": [
    "n=df['PassOutcome'].isnull().value_counts()\n",
    "print(n)"
   ]
  },
  {
   "cell_type": "markdown",
   "metadata": {},
   "source": [
    "# TwoPointConv ustunida 40716 ta NaN qiymat va bor yog'i 53 data bolganligi uchun u ustunni ochrib tawlaymz "
   ]
  },
  {
   "cell_type": "code",
   "execution_count": 359,
   "metadata": {},
   "outputs": [
    {
     "name": "stdout",
     "output_type": "stream",
     "text": [
      "TwoPointConv\n",
      "True     40716\n",
      "False       53\n",
      "Name: count, dtype: int64\n"
     ]
    }
   ],
   "source": [
    "n=df['TwoPointConv'].isnull().value_counts()\n",
    "print(n)\n",
    "df=df.drop(columns=[\"TwoPointConv\"])"
   ]
  },
  {
   "cell_type": "code",
   "execution_count": 360,
   "metadata": {},
   "outputs": [
    {
     "data": {
      "text/plain": [
       "Index(['Safety', 'yacEPA', 'Drive', 'FieldGoalDistance', 'airEPA',\n",
       "       'Field_Goal_Prob', 'posteam', 'Penalty.Yards', 'FieldGoalResult',\n",
       "       'DefTeamScore', 'Tackler2', 'Away_WP_pre', 'Timeout_Indicator',\n",
       "       'ydsnet', 'TimeSecs', 'Passer', 'Touchdown', 'PassOutcome',\n",
       "       'PlayTimeDiff', 'RushAttempt', 'Accepted.Penalty', 'qtr',\n",
       "       'AwayTimeouts_Remaining_Post', 'RunGap', 'Reception', 'TimeUnder',\n",
       "       'Season', 'Opp_Safety_Prob', 'No_Score_Prob', 'Challenge.Replay'],\n",
       "      dtype='object')"
      ]
     },
     "execution_count": 360,
     "metadata": {},
     "output_type": "execute_result"
    }
   ],
   "source": [
    "df.columns"
   ]
  },
  {
   "cell_type": "markdown",
   "metadata": {},
   "source": [
    "# Passer ustunida ham data kamligi un olib tawlaymz"
   ]
  },
  {
   "cell_type": "code",
   "execution_count": 361,
   "metadata": {},
   "outputs": [
    {
     "name": "stdout",
     "output_type": "stream",
     "text": [
      "Passer\n",
      "True     24073\n",
      "False    16696\n",
      "Name: count, dtype: int64\n"
     ]
    }
   ],
   "source": [
    "n=df['Passer'].isnull().value_counts()\n",
    "print(n)\n",
    "df=df.drop(columns=[\"Passer\"])"
   ]
  },
  {
   "cell_type": "code",
   "execution_count": 362,
   "metadata": {},
   "outputs": [
    {
     "name": "stdout",
     "output_type": "stream",
     "text": [
      "TimeSecs\n",
      "False    40742\n",
      "True        27\n",
      "Name: count, dtype: int64\n"
     ]
    }
   ],
   "source": [
    "n=df['TimeSecs'].isnull().value_counts()\n",
    "print(n)\n",
    "df['TimeSecs']=df['TimeSecs'].fillna(df['TimeSecs'].mean())"
   ]
  },
  {
   "cell_type": "markdown",
   "metadata": {},
   "source": [
    "# NAtija"
   ]
  },
  {
   "cell_type": "code",
   "execution_count": 363,
   "metadata": {},
   "outputs": [
    {
     "name": "stdout",
     "output_type": "stream",
     "text": [
      "TimeSecs\n",
      "False    40769\n",
      "Name: count, dtype: int64\n"
     ]
    }
   ],
   "source": [
    "n=df['TimeSecs'].isnull().value_counts()\n",
    "print(n)\n"
   ]
  },
  {
   "cell_type": "code",
   "execution_count": 364,
   "metadata": {},
   "outputs": [
    {
     "name": "stdout",
     "output_type": "stream",
     "text": [
      "Away_WP_pre\n",
      "False    38223\n",
      "True      2546\n",
      "Name: count, dtype: int64\n"
     ]
    }
   ],
   "source": [
    "n=df['Away_WP_pre'].isnull().value_counts()\n",
    "print(n)\n",
    "df['Away_WP_pre']=df['Away_WP_pre'].fillna(df['Away_WP_pre'].mean())\n"
   ]
  },
  {
   "cell_type": "markdown",
   "metadata": {},
   "source": [
    "# natija"
   ]
  },
  {
   "cell_type": "code",
   "execution_count": 365,
   "metadata": {},
   "outputs": [
    {
     "name": "stdout",
     "output_type": "stream",
     "text": [
      "Away_WP_pre\n",
      "False    40769\n",
      "Name: count, dtype: int64\n"
     ]
    }
   ],
   "source": [
    "n=df['Away_WP_pre'].isnull().value_counts()\n",
    "print(n)"
   ]
  },
  {
   "cell_type": "code",
   "execution_count": 366,
   "metadata": {},
   "outputs": [
    {
     "name": "stdout",
     "output_type": "stream",
     "text": [
      "Tackler2\n",
      "True     35826\n",
      "False     4943\n",
      "Name: count, dtype: int64\n"
     ]
    }
   ],
   "source": [
    "n=df['Tackler2'].isnull().value_counts()\n",
    "print(n)\n",
    "df['Tackler2']=df['Tackler2'].fillna(\"None Name\")"
   ]
  },
  {
   "cell_type": "markdown",
   "metadata": {},
   "source": [
    "# Natija"
   ]
  },
  {
   "cell_type": "code",
   "execution_count": 367,
   "metadata": {},
   "outputs": [
    {
     "name": "stdout",
     "output_type": "stream",
     "text": [
      "Tackler2\n",
      "False    40769\n",
      "Name: count, dtype: int64\n"
     ]
    }
   ],
   "source": [
    "n=df['Tackler2'].isnull().value_counts()\n",
    "print(n)"
   ]
  },
  {
   "cell_type": "code",
   "execution_count": 368,
   "metadata": {},
   "outputs": [
    {
     "name": "stdout",
     "output_type": "stream",
     "text": [
      "DefTeamScore\n",
      "False    38019\n",
      "True      2750\n",
      "Name: count, dtype: int64\n"
     ]
    }
   ],
   "source": [
    "n=df['DefTeamScore'].isnull().value_counts()\n",
    "print(n)\n",
    "df['DefTeamScore']=df['DefTeamScore'].fillna(df['DefTeamScore'].mode()[0])"
   ]
  },
  {
   "cell_type": "markdown",
   "metadata": {},
   "source": [
    "# natiaja"
   ]
  },
  {
   "cell_type": "code",
   "execution_count": 369,
   "metadata": {},
   "outputs": [
    {
     "name": "stdout",
     "output_type": "stream",
     "text": [
      "DefTeamScore\n",
      "False    40769\n",
      "Name: count, dtype: int64\n"
     ]
    }
   ],
   "source": [
    "n=df['DefTeamScore'].isnull().value_counts()\n",
    "print(n)"
   ]
  },
  {
   "cell_type": "code",
   "execution_count": 370,
   "metadata": {},
   "outputs": [
    {
     "name": "stdout",
     "output_type": "stream",
     "text": [
      "FieldGoalResult\n",
      "True     39861\n",
      "False      908\n",
      "Name: count, dtype: int64\n"
     ]
    }
   ],
   "source": [
    "n=df['FieldGoalResult'].isnull().value_counts()\n",
    "print(n)\n",
    "df['FieldGoalResult']=df['FieldGoalResult'].fillna(df['FieldGoalResult'].mode()[0])"
   ]
  },
  {
   "cell_type": "markdown",
   "metadata": {},
   "source": [
    "# Natija"
   ]
  },
  {
   "cell_type": "code",
   "execution_count": 371,
   "metadata": {},
   "outputs": [
    {
     "name": "stdout",
     "output_type": "stream",
     "text": [
      "FieldGoalResult\n",
      "False    40769\n",
      "Name: count, dtype: int64\n"
     ]
    }
   ],
   "source": [
    "n=df['FieldGoalResult'].isnull().value_counts()\n",
    "print(n)"
   ]
  },
  {
   "cell_type": "code",
   "execution_count": 372,
   "metadata": {},
   "outputs": [
    {
     "name": "stdout",
     "output_type": "stream",
     "text": [
      "posteam\n",
      "False    38219\n",
      "True      2550\n",
      "Name: count, dtype: int64\n"
     ]
    }
   ],
   "source": [
    "n=df['posteam'].isnull().value_counts()\n",
    "print(n)\n",
    "df['posteam']=df['posteam'].fillna(df['posteam'].mode()[0])"
   ]
  },
  {
   "cell_type": "markdown",
   "metadata": {},
   "source": [
    "# NAtija\n"
   ]
  },
  {
   "cell_type": "code",
   "execution_count": 373,
   "metadata": {},
   "outputs": [
    {
     "name": "stdout",
     "output_type": "stream",
     "text": [
      "posteam\n",
      "False    40769\n",
      "Name: count, dtype: int64\n"
     ]
    }
   ],
   "source": [
    "n=df['posteam'].isnull().value_counts()\n",
    "print(n)"
   ]
  },
  {
   "cell_type": "code",
   "execution_count": 374,
   "metadata": {},
   "outputs": [
    {
     "name": "stdout",
     "output_type": "stream",
     "text": [
      "Field_Goal_Prob\n",
      "False    40748\n",
      "True        21\n",
      "Name: count, dtype: int64\n"
     ]
    }
   ],
   "source": [
    "n=df['Field_Goal_Prob'].isnull().value_counts()\n",
    "print(n)\n",
    "df['Field_Goal_Prob']=df['Field_Goal_Prob'].fillna(df['Field_Goal_Prob'].mean())"
   ]
  },
  {
   "cell_type": "code",
   "execution_count": 375,
   "metadata": {},
   "outputs": [
    {
     "name": "stdout",
     "output_type": "stream",
     "text": [
      "Field_Goal_Prob\n",
      "False    40769\n",
      "Name: count, dtype: int64\n"
     ]
    }
   ],
   "source": [
    "n=df['Field_Goal_Prob'].isnull().value_counts()\n",
    "print(n)"
   ]
  },
  {
   "cell_type": "markdown",
   "metadata": {},
   "source": [
    "# airEPA ustunida ham data kamligi un olib tawlaymz"
   ]
  },
  {
   "cell_type": "code",
   "execution_count": 376,
   "metadata": {},
   "outputs": [
    {
     "name": "stdout",
     "output_type": "stream",
     "text": [
      "airEPA\n",
      "True     24894\n",
      "False    15875\n",
      "Name: count, dtype: int64\n"
     ]
    }
   ],
   "source": [
    "n=df['airEPA'].isnull().value_counts()\n",
    "print(n)\n",
    "df=df.drop(columns=\"airEPA\")"
   ]
  },
  {
   "cell_type": "code",
   "execution_count": 377,
   "metadata": {},
   "outputs": [
    {
     "name": "stdout",
     "output_type": "stream",
     "text": [
      "FieldGoalDistance\n",
      "True     39867\n",
      "False      902\n",
      "Name: count, dtype: int64\n"
     ]
    }
   ],
   "source": [
    "n=df['FieldGoalDistance'].isnull().value_counts()\n",
    "print(n)\n",
    "df['FieldGoalDistance']=df['FieldGoalDistance'].fillna(df['FieldGoalDistance'].median())\n",
    "\n"
   ]
  },
  {
   "cell_type": "code",
   "execution_count": 378,
   "metadata": {},
   "outputs": [
    {
     "name": "stdout",
     "output_type": "stream",
     "text": [
      "FieldGoalDistance\n",
      "False    40769\n",
      "Name: count, dtype: int64\n"
     ]
    }
   ],
   "source": [
    "n=df['FieldGoalDistance'].isnull().value_counts()\n",
    "print(n)"
   ]
  },
  {
   "cell_type": "markdown",
   "metadata": {},
   "source": [
    "# yacEPA ustunida ham data kamligi un olib tawlaymz"
   ]
  },
  {
   "cell_type": "code",
   "execution_count": 379,
   "metadata": {},
   "outputs": [
    {
     "name": "stdout",
     "output_type": "stream",
     "text": [
      "yacEPA\n",
      "True     24902\n",
      "False    15867\n",
      "Name: count, dtype: int64\n"
     ]
    }
   ],
   "source": [
    "n=df['yacEPA'].isnull().value_counts()\n",
    "print(n)\n",
    "df=df.drop(columns='yacEPA')"
   ]
  },
  {
   "cell_type": "markdown",
   "metadata": {},
   "source": [
    "# Dastlabki dataset"
   ]
  },
  {
   "cell_type": "code",
   "execution_count": 380,
   "metadata": {},
   "outputs": [
    {
     "data": {
      "text/html": [
       "<div>\n",
       "<style scoped>\n",
       "    .dataframe tbody tr th:only-of-type {\n",
       "        vertical-align: middle;\n",
       "    }\n",
       "\n",
       "    .dataframe tbody tr th {\n",
       "        vertical-align: top;\n",
       "    }\n",
       "\n",
       "    .dataframe thead th {\n",
       "        text-align: right;\n",
       "    }\n",
       "</style>\n",
       "<table border=\"1\" class=\"dataframe\">\n",
       "  <thead>\n",
       "    <tr style=\"text-align: right;\">\n",
       "      <th></th>\n",
       "      <th>Safety</th>\n",
       "      <th>yacEPA</th>\n",
       "      <th>Drive</th>\n",
       "      <th>FieldGoalDistance</th>\n",
       "      <th>airEPA</th>\n",
       "      <th>Field_Goal_Prob</th>\n",
       "      <th>posteam</th>\n",
       "      <th>Penalty.Yards</th>\n",
       "      <th>FieldGoalResult</th>\n",
       "      <th>DefTeamScore</th>\n",
       "      <th>...</th>\n",
       "      <th>Accepted.Penalty</th>\n",
       "      <th>qtr</th>\n",
       "      <th>AwayTimeouts_Remaining_Post</th>\n",
       "      <th>RunGap</th>\n",
       "      <th>Reception</th>\n",
       "      <th>TimeUnder</th>\n",
       "      <th>Season</th>\n",
       "      <th>Opp_Safety_Prob</th>\n",
       "      <th>No_Score_Prob</th>\n",
       "      <th>Challenge.Replay</th>\n",
       "    </tr>\n",
       "  </thead>\n",
       "  <tbody>\n",
       "  </tbody>\n",
       "</table>\n",
       "<p>0 rows × 31 columns</p>\n",
       "</div>"
      ],
      "text/plain": [
       "Empty DataFrame\n",
       "Columns: [Safety, yacEPA, Drive, FieldGoalDistance, airEPA, Field_Goal_Prob, posteam, Penalty.Yards, FieldGoalResult, DefTeamScore, Tackler2, Away_WP_pre, Timeout_Indicator, ydsnet, TimeSecs, Passer, Touchdown, TwoPointConv, PassOutcome, PlayTimeDiff, RushAttempt, Accepted.Penalty, qtr, AwayTimeouts_Remaining_Post, RunGap, Reception, TimeUnder, Season, Opp_Safety_Prob, No_Score_Prob, Challenge.Replay]\n",
       "Index: []\n",
       "\n",
       "[0 rows x 31 columns]"
      ]
     },
     "execution_count": 380,
     "metadata": {},
     "output_type": "execute_result"
    }
   ],
   "source": [
    "df_1.dropna()"
   ]
  },
  {
   "cell_type": "markdown",
   "metadata": {},
   "source": [
    "# Malumotlarni tozalagandan keyngi holat"
   ]
  },
  {
   "cell_type": "code",
   "execution_count": 381,
   "metadata": {},
   "outputs": [
    {
     "data": {
      "text/html": [
       "<div>\n",
       "<style scoped>\n",
       "    .dataframe tbody tr th:only-of-type {\n",
       "        vertical-align: middle;\n",
       "    }\n",
       "\n",
       "    .dataframe tbody tr th {\n",
       "        vertical-align: top;\n",
       "    }\n",
       "\n",
       "    .dataframe thead th {\n",
       "        text-align: right;\n",
       "    }\n",
       "</style>\n",
       "<table border=\"1\" class=\"dataframe\">\n",
       "  <thead>\n",
       "    <tr style=\"text-align: right;\">\n",
       "      <th></th>\n",
       "      <th>Safety</th>\n",
       "      <th>Drive</th>\n",
       "      <th>FieldGoalDistance</th>\n",
       "      <th>Field_Goal_Prob</th>\n",
       "      <th>posteam</th>\n",
       "      <th>Penalty.Yards</th>\n",
       "      <th>FieldGoalResult</th>\n",
       "      <th>DefTeamScore</th>\n",
       "      <th>Tackler2</th>\n",
       "      <th>Away_WP_pre</th>\n",
       "      <th>...</th>\n",
       "      <th>Accepted.Penalty</th>\n",
       "      <th>qtr</th>\n",
       "      <th>AwayTimeouts_Remaining_Post</th>\n",
       "      <th>RunGap</th>\n",
       "      <th>Reception</th>\n",
       "      <th>TimeUnder</th>\n",
       "      <th>Season</th>\n",
       "      <th>Opp_Safety_Prob</th>\n",
       "      <th>No_Score_Prob</th>\n",
       "      <th>Challenge.Replay</th>\n",
       "    </tr>\n",
       "  </thead>\n",
       "  <tbody>\n",
       "    <tr>\n",
       "      <th>244485</th>\n",
       "      <td>0</td>\n",
       "      <td>18</td>\n",
       "      <td>38.0</td>\n",
       "      <td>0.309404</td>\n",
       "      <td>TB</td>\n",
       "      <td>0</td>\n",
       "      <td>Good</td>\n",
       "      <td>10.0</td>\n",
       "      <td>None Name</td>\n",
       "      <td>0.774353</td>\n",
       "      <td>...</td>\n",
       "      <td>0</td>\n",
       "      <td>3</td>\n",
       "      <td>3</td>\n",
       "      <td>end</td>\n",
       "      <td>1</td>\n",
       "      <td>1</td>\n",
       "      <td>2014</td>\n",
       "      <td>0.000527</td>\n",
       "      <td>0.024134</td>\n",
       "      <td>0</td>\n",
       "    </tr>\n",
       "    <tr>\n",
       "      <th>115340</th>\n",
       "      <td>0</td>\n",
       "      <td>22</td>\n",
       "      <td>38.0</td>\n",
       "      <td>0.198142</td>\n",
       "      <td>OAK</td>\n",
       "      <td>0</td>\n",
       "      <td>Good</td>\n",
       "      <td>14.0</td>\n",
       "      <td>None Name</td>\n",
       "      <td>0.943964</td>\n",
       "      <td>...</td>\n",
       "      <td>0</td>\n",
       "      <td>4</td>\n",
       "      <td>3</td>\n",
       "      <td>end</td>\n",
       "      <td>0</td>\n",
       "      <td>7</td>\n",
       "      <td>2011</td>\n",
       "      <td>0.001883</td>\n",
       "      <td>0.246929</td>\n",
       "      <td>0</td>\n",
       "    </tr>\n",
       "    <tr>\n",
       "      <th>68357</th>\n",
       "      <td>0</td>\n",
       "      <td>8</td>\n",
       "      <td>38.0</td>\n",
       "      <td>0.000000</td>\n",
       "      <td>NYJ</td>\n",
       "      <td>0</td>\n",
       "      <td>Good</td>\n",
       "      <td>13.0</td>\n",
       "      <td>None Name</td>\n",
       "      <td>0.634693</td>\n",
       "      <td>...</td>\n",
       "      <td>0</td>\n",
       "      <td>2</td>\n",
       "      <td>1</td>\n",
       "      <td>end</td>\n",
       "      <td>0</td>\n",
       "      <td>1</td>\n",
       "      <td>2010</td>\n",
       "      <td>0.000000</td>\n",
       "      <td>0.000000</td>\n",
       "      <td>0</td>\n",
       "    </tr>\n",
       "    <tr>\n",
       "      <th>368377</th>\n",
       "      <td>0</td>\n",
       "      <td>24</td>\n",
       "      <td>38.0</td>\n",
       "      <td>0.258227</td>\n",
       "      <td>CLE</td>\n",
       "      <td>0</td>\n",
       "      <td>Good</td>\n",
       "      <td>31.0</td>\n",
       "      <td>None Name</td>\n",
       "      <td>0.064005</td>\n",
       "      <td>...</td>\n",
       "      <td>0</td>\n",
       "      <td>4</td>\n",
       "      <td>0</td>\n",
       "      <td>end</td>\n",
       "      <td>1</td>\n",
       "      <td>9</td>\n",
       "      <td>2017</td>\n",
       "      <td>0.000845</td>\n",
       "      <td>0.133814</td>\n",
       "      <td>0</td>\n",
       "    </tr>\n",
       "    <tr>\n",
       "      <th>384684</th>\n",
       "      <td>0</td>\n",
       "      <td>11</td>\n",
       "      <td>38.0</td>\n",
       "      <td>0.199771</td>\n",
       "      <td>DEN</td>\n",
       "      <td>0</td>\n",
       "      <td>Good</td>\n",
       "      <td>24.0</td>\n",
       "      <td>None Name</td>\n",
       "      <td>0.071526</td>\n",
       "      <td>...</td>\n",
       "      <td>0</td>\n",
       "      <td>2</td>\n",
       "      <td>2</td>\n",
       "      <td>end</td>\n",
       "      <td>0</td>\n",
       "      <td>10</td>\n",
       "      <td>2017</td>\n",
       "      <td>0.003453</td>\n",
       "      <td>0.170787</td>\n",
       "      <td>0</td>\n",
       "    </tr>\n",
       "    <tr>\n",
       "      <th>...</th>\n",
       "      <td>...</td>\n",
       "      <td>...</td>\n",
       "      <td>...</td>\n",
       "      <td>...</td>\n",
       "      <td>...</td>\n",
       "      <td>...</td>\n",
       "      <td>...</td>\n",
       "      <td>...</td>\n",
       "      <td>...</td>\n",
       "      <td>...</td>\n",
       "      <td>...</td>\n",
       "      <td>...</td>\n",
       "      <td>...</td>\n",
       "      <td>...</td>\n",
       "      <td>...</td>\n",
       "      <td>...</td>\n",
       "      <td>...</td>\n",
       "      <td>...</td>\n",
       "      <td>...</td>\n",
       "      <td>...</td>\n",
       "      <td>...</td>\n",
       "    </tr>\n",
       "    <tr>\n",
       "      <th>79438</th>\n",
       "      <td>0</td>\n",
       "      <td>3</td>\n",
       "      <td>38.0</td>\n",
       "      <td>0.381506</td>\n",
       "      <td>NO</td>\n",
       "      <td>0</td>\n",
       "      <td>Good</td>\n",
       "      <td>0.0</td>\n",
       "      <td>None Name</td>\n",
       "      <td>0.163670</td>\n",
       "      <td>...</td>\n",
       "      <td>0</td>\n",
       "      <td>1</td>\n",
       "      <td>3</td>\n",
       "      <td>guard</td>\n",
       "      <td>0</td>\n",
       "      <td>3</td>\n",
       "      <td>2010</td>\n",
       "      <td>0.000021</td>\n",
       "      <td>0.005075</td>\n",
       "      <td>0</td>\n",
       "    </tr>\n",
       "    <tr>\n",
       "      <th>398233</th>\n",
       "      <td>0</td>\n",
       "      <td>9</td>\n",
       "      <td>38.0</td>\n",
       "      <td>0.244675</td>\n",
       "      <td>DEN</td>\n",
       "      <td>0</td>\n",
       "      <td>Good</td>\n",
       "      <td>0.0</td>\n",
       "      <td>None Name</td>\n",
       "      <td>0.139549</td>\n",
       "      <td>...</td>\n",
       "      <td>0</td>\n",
       "      <td>2</td>\n",
       "      <td>3</td>\n",
       "      <td>guard</td>\n",
       "      <td>0</td>\n",
       "      <td>3</td>\n",
       "      <td>2017</td>\n",
       "      <td>0.000134</td>\n",
       "      <td>0.287528</td>\n",
       "      <td>0</td>\n",
       "    </tr>\n",
       "    <tr>\n",
       "      <th>396466</th>\n",
       "      <td>0</td>\n",
       "      <td>8</td>\n",
       "      <td>38.0</td>\n",
       "      <td>0.147057</td>\n",
       "      <td>ATL</td>\n",
       "      <td>0</td>\n",
       "      <td>Good</td>\n",
       "      <td>10.0</td>\n",
       "      <td>None Name</td>\n",
       "      <td>0.467202</td>\n",
       "      <td>...</td>\n",
       "      <td>0</td>\n",
       "      <td>2</td>\n",
       "      <td>1</td>\n",
       "      <td>guard</td>\n",
       "      <td>0</td>\n",
       "      <td>1</td>\n",
       "      <td>2017</td>\n",
       "      <td>0.001132</td>\n",
       "      <td>0.612357</td>\n",
       "      <td>0</td>\n",
       "    </tr>\n",
       "    <tr>\n",
       "      <th>333861</th>\n",
       "      <td>0</td>\n",
       "      <td>14</td>\n",
       "      <td>38.0</td>\n",
       "      <td>0.373774</td>\n",
       "      <td>IND</td>\n",
       "      <td>0</td>\n",
       "      <td>Good</td>\n",
       "      <td>13.0</td>\n",
       "      <td>None Name</td>\n",
       "      <td>0.773475</td>\n",
       "      <td>...</td>\n",
       "      <td>0</td>\n",
       "      <td>3</td>\n",
       "      <td>3</td>\n",
       "      <td>end</td>\n",
       "      <td>1</td>\n",
       "      <td>7</td>\n",
       "      <td>2016</td>\n",
       "      <td>0.000042</td>\n",
       "      <td>0.002641</td>\n",
       "      <td>0</td>\n",
       "    </tr>\n",
       "    <tr>\n",
       "      <th>247608</th>\n",
       "      <td>0</td>\n",
       "      <td>6</td>\n",
       "      <td>38.0</td>\n",
       "      <td>0.210732</td>\n",
       "      <td>CIN</td>\n",
       "      <td>0</td>\n",
       "      <td>Good</td>\n",
       "      <td>3.0</td>\n",
       "      <td>None Name</td>\n",
       "      <td>0.613732</td>\n",
       "      <td>...</td>\n",
       "      <td>0</td>\n",
       "      <td>1</td>\n",
       "      <td>3</td>\n",
       "      <td>end</td>\n",
       "      <td>0</td>\n",
       "      <td>2</td>\n",
       "      <td>2014</td>\n",
       "      <td>0.006138</td>\n",
       "      <td>0.040037</td>\n",
       "      <td>0</td>\n",
       "    </tr>\n",
       "  </tbody>\n",
       "</table>\n",
       "<p>40769 rows × 27 columns</p>\n",
       "</div>"
      ],
      "text/plain": [
       "        Safety  Drive  FieldGoalDistance  Field_Goal_Prob posteam  \\\n",
       "244485       0     18               38.0         0.309404      TB   \n",
       "115340       0     22               38.0         0.198142     OAK   \n",
       "68357        0      8               38.0         0.000000     NYJ   \n",
       "368377       0     24               38.0         0.258227     CLE   \n",
       "384684       0     11               38.0         0.199771     DEN   \n",
       "...        ...    ...                ...              ...     ...   \n",
       "79438        0      3               38.0         0.381506      NO   \n",
       "398233       0      9               38.0         0.244675     DEN   \n",
       "396466       0      8               38.0         0.147057     ATL   \n",
       "333861       0     14               38.0         0.373774     IND   \n",
       "247608       0      6               38.0         0.210732     CIN   \n",
       "\n",
       "        Penalty.Yards FieldGoalResult  DefTeamScore   Tackler2  Away_WP_pre  \\\n",
       "244485              0            Good          10.0  None Name     0.774353   \n",
       "115340              0            Good          14.0  None Name     0.943964   \n",
       "68357               0            Good          13.0  None Name     0.634693   \n",
       "368377              0            Good          31.0  None Name     0.064005   \n",
       "384684              0            Good          24.0  None Name     0.071526   \n",
       "...               ...             ...           ...        ...          ...   \n",
       "79438               0            Good           0.0  None Name     0.163670   \n",
       "398233              0            Good           0.0  None Name     0.139549   \n",
       "396466              0            Good          10.0  None Name     0.467202   \n",
       "333861              0            Good          13.0  None Name     0.773475   \n",
       "247608              0            Good           3.0  None Name     0.613732   \n",
       "\n",
       "        ...  Accepted.Penalty  qtr  AwayTimeouts_Remaining_Post  RunGap  \\\n",
       "244485  ...                 0    3                            3     end   \n",
       "115340  ...                 0    4                            3     end   \n",
       "68357   ...                 0    2                            1     end   \n",
       "368377  ...                 0    4                            0     end   \n",
       "384684  ...                 0    2                            2     end   \n",
       "...     ...               ...  ...                          ...     ...   \n",
       "79438   ...                 0    1                            3   guard   \n",
       "398233  ...                 0    2                            3   guard   \n",
       "396466  ...                 0    2                            1   guard   \n",
       "333861  ...                 0    3                            3     end   \n",
       "247608  ...                 0    1                            3     end   \n",
       "\n",
       "       Reception  TimeUnder  Season  Opp_Safety_Prob  No_Score_Prob  \\\n",
       "244485         1          1    2014         0.000527       0.024134   \n",
       "115340         0          7    2011         0.001883       0.246929   \n",
       "68357          0          1    2010         0.000000       0.000000   \n",
       "368377         1          9    2017         0.000845       0.133814   \n",
       "384684         0         10    2017         0.003453       0.170787   \n",
       "...          ...        ...     ...              ...            ...   \n",
       "79438          0          3    2010         0.000021       0.005075   \n",
       "398233         0          3    2017         0.000134       0.287528   \n",
       "396466         0          1    2017         0.001132       0.612357   \n",
       "333861         1          7    2016         0.000042       0.002641   \n",
       "247608         0          2    2014         0.006138       0.040037   \n",
       "\n",
       "        Challenge.Replay  \n",
       "244485                 0  \n",
       "115340                 0  \n",
       "68357                  0  \n",
       "368377                 0  \n",
       "384684                 0  \n",
       "...                  ...  \n",
       "79438                  0  \n",
       "398233                 0  \n",
       "396466                 0  \n",
       "333861                 0  \n",
       "247608                 0  \n",
       "\n",
       "[40769 rows x 27 columns]"
      ]
     },
     "execution_count": 381,
     "metadata": {},
     "output_type": "execute_result"
    }
   ],
   "source": [
    "df.dropna()"
   ]
  }
 ],
 "metadata": {
  "kernelspec": {
   "display_name": "Python 3",
   "language": "python",
   "name": "python3"
  },
  "language_info": {
   "codemirror_mode": {
    "name": "ipython",
    "version": 3
   },
   "file_extension": ".py",
   "mimetype": "text/x-python",
   "name": "python",
   "nbconvert_exporter": "python",
   "pygments_lexer": "ipython3",
   "version": "3.12.2"
  }
 },
 "nbformat": 4,
 "nbformat_minor": 2
}
